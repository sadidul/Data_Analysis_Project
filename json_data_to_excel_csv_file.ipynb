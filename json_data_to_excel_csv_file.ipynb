{
 "cells": [
  {
   "cell_type": "code",
   "execution_count": 1,
   "id": "8827d863",
   "metadata": {},
   "outputs": [],
   "source": [
    "import pandas as pd"
   ]
  },
  {
   "cell_type": "markdown",
   "id": "69bd0836",
   "metadata": {},
   "source": [
    "# Use Python to extract data from the file \"HPI_master.json\" and convert it to an Excel file."
   ]
  },
  {
   "cell_type": "code",
   "execution_count": 2,
   "id": "5dc490d8",
   "metadata": {},
   "outputs": [
    {
     "name": "stdout",
     "output_type": "stream",
     "text": [
      "HPI_master.xlsx\n"
     ]
    }
   ],
   "source": [
    "json_file_path = r'C:\\Users\\SK\\Desktop\\jupyter_notebook\\ML\\json_data\\HPI_master.json'\n",
    "excel_file_path = r'C:\\Users\\SK\\Desktop\\jupyter_notebook\\ML\\json_data\\HPI_master.xlsx'\n",
    "df = pd.read_json(json_file_path)\n",
    "df.to_excel(excel_file_path, index=False)\n",
    "print(\"HPI_master.xlsx\")"
   ]
  },
  {
   "cell_type": "markdown",
   "id": "78696d24",
   "metadata": {},
   "source": [
    "# Use Python to extract data from the file \"HPI_master.json\" and convert it to a CSV file."
   ]
  },
  {
   "cell_type": "code",
   "execution_count": 3,
   "id": "ae3a4782",
   "metadata": {},
   "outputs": [
    {
     "name": "stdout",
     "output_type": "stream",
     "text": [
      "HPI_master_output.csv\n"
     ]
    }
   ],
   "source": [
    "json_file_path = r'C:\\Users\\SK\\Desktop\\jupyter_notebook\\ML\\json_data\\HPI_master.json'\n",
    "output_csv_file_path = r'C:\\Users\\SK\\Desktop\\jupyter_notebook\\ML\\json_data\\HPI_master_output.csv'\n",
    "df = pd.read_json(json_file_path)\n",
    "df.to_csv(output_csv_file_path, index=False)\n",
    "print(\"HPI_master_output.csv\")"
   ]
  },
  {
   "cell_type": "markdown",
   "id": "77569551",
   "metadata": {},
   "source": [
    "#### \"json_file_path\": This variable stores the file path of a JSON file named \"HPI_master.json\". The 'r' before the string indicates a raw string literal in Python, which is used to avoid unintended escape characters in file paths."
   ]
  },
  {
   "cell_type": "code",
   "execution_count": null,
   "id": "e5c83df2",
   "metadata": {},
   "outputs": [],
   "source": []
  }
 ],
 "metadata": {
  "kernelspec": {
   "display_name": "Python 3 (ipykernel)",
   "language": "python",
   "name": "python3"
  },
  "language_info": {
   "codemirror_mode": {
    "name": "ipython",
    "version": 3
   },
   "file_extension": ".py",
   "mimetype": "text/x-python",
   "name": "python",
   "nbconvert_exporter": "python",
   "pygments_lexer": "ipython3",
   "version": "3.11.5"
  }
 },
 "nbformat": 4,
 "nbformat_minor": 5
}
